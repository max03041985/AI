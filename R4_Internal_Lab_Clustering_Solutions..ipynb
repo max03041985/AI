{
  "nbformat": 4,
  "nbformat_minor": 0,
  "metadata": {
    "colab": {
      "name": "R4_Internal_Lab_Clustering-Solution_Updated.ipynb",
      "provenance": [],
      "collapsed_sections": [
        "n2kFVi2GhpBn",
        "Ufj36K5NhpCo"
      ]
    },
    "kernelspec": {
      "display_name": "Python 3",
      "language": "python",
      "name": "python3"
    },
    "language_info": {
      "codemirror_mode": {
        "name": "ipython",
        "version": 3
      },
      "file_extension": ".py",
      "mimetype": "text/x-python",
      "name": "python",
      "nbconvert_exporter": "python",
      "pygments_lexer": "ipython3",
      "version": "3.7.0"
    }
  },
  "cells": [
    {
      "cell_type": "markdown",
      "metadata": {
        "colab_type": "text",
        "id": "zfsiaKcDho8W"
      },
      "source": [
        "### The data set has information about features of silhouette extracted from the images of different cars\n",
        "\n",
        "Four \"Corgie\" model vehicles were used for the experiment: a double decker bus, Cheverolet van, Saab 9000 and an Opel Manta 400 cars. This particular combination of vehicles was chosen with the expectation that the bus, van and either one of the cars would be readily distinguishable, but it would be more difficult to distinguish between the cars.\n",
        "\n"
      ]
    },
    {
      "cell_type": "markdown",
      "metadata": {
        "colab_type": "text",
        "id": "kVtZqLhGho8c"
      },
      "source": [
        "### 1. Read the dataset using function .dropna() - to avoid dealing with NAs as of now"
      ]
    },
    {
      "cell_type": "code",
      "metadata": {
        "colab_type": "code",
        "id": "VbKTspg4ho8g",
        "colab": {}
      },
      "source": [
        "import pandas as pd\n",
        "import numpy as np\n",
        "from matplotlib import pyplot as plt"
      ],
      "execution_count": 0,
      "outputs": []
    },
    {
      "cell_type": "code",
      "metadata": {
        "id": "riV6T8ply-MC",
        "colab_type": "code",
        "colab": {}
      },
      "source": [
        "df = pd.read_csv('vehicle.csv').dropna()"
      ],
      "execution_count": 0,
      "outputs": []
    },
    {
      "cell_type": "markdown",
      "metadata": {
        "colab_type": "text",
        "id": "Ku4eS0ZAho8s"
      },
      "source": [
        "### 2. Print/ Plot the dependent (categorical variable) - Class column"
      ]
    },
    {
      "cell_type": "markdown",
      "metadata": {
        "colab_type": "text",
        "id": "R1mfF_hiho8v"
      },
      "source": [
        "Since the variable is categorical, you can use value_counts function"
      ]
    },
    {
      "cell_type": "code",
      "metadata": {
        "colab_type": "code",
        "id": "_dP5-zpUho81",
        "colab": {},
        "outputId": "f9e54385-fde9-4a1c-a3cb-5ffcb8bac3a5"
      },
      "source": [
        "df.info()"
      ],
      "execution_count": 0,
      "outputs": [
        {
          "output_type": "stream",
          "text": [
            "<class 'pandas.core.frame.DataFrame'>\n",
            "Int64Index: 813 entries, 0 to 845\n",
            "Data columns (total 19 columns):\n",
            "compactness                    813 non-null int64\n",
            "circularity                    813 non-null float64\n",
            "distance_circularity           813 non-null float64\n",
            "radius_ratio                   813 non-null float64\n",
            "pr.axis_aspect_ratio           813 non-null float64\n",
            "max.length_aspect_ratio        813 non-null int64\n",
            "scatter_ratio                  813 non-null float64\n",
            "elongatedness                  813 non-null float64\n",
            "pr.axis_rectangularity         813 non-null float64\n",
            "max.length_rectangularity      813 non-null int64\n",
            "scaled_variance                813 non-null float64\n",
            "scaled_variance.1              813 non-null float64\n",
            "scaled_radius_of_gyration      813 non-null float64\n",
            "scaled_radius_of_gyration.1    813 non-null float64\n",
            "skewness_about                 813 non-null float64\n",
            "skewness_about.1               813 non-null float64\n",
            "skewness_about.2               813 non-null float64\n",
            "hollows_ratio                  813 non-null int64\n",
            "class                          813 non-null object\n",
            "dtypes: float64(14), int64(4), object(1)\n",
            "memory usage: 127.0+ KB\n"
          ],
          "name": "stdout"
        }
      ]
    },
    {
      "cell_type": "code",
      "metadata": {
        "id": "K7WI0BpHy-MW",
        "colab_type": "code",
        "colab": {},
        "outputId": "2e6a0c73-e956-42a1-bc0b-01faabd0affa"
      },
      "source": [
        "df['class'].unique()"
      ],
      "execution_count": 0,
      "outputs": [
        {
          "output_type": "execute_result",
          "data": {
            "text/plain": [
              "array(['van', 'car', 'bus'], dtype=object)"
            ]
          },
          "metadata": {
            "tags": []
          },
          "execution_count": 5
        }
      ]
    },
    {
      "cell_type": "code",
      "metadata": {
        "id": "u29X_JoQy-Mf",
        "colab_type": "code",
        "colab": {},
        "outputId": "d9bb3cbe-ba60-4c73-b6d2-967ea984e8b3"
      },
      "source": [
        "pd.value_counts(df['class']).plot(kind='bar')"
      ],
      "execution_count": 0,
      "outputs": [
        {
          "output_type": "execute_result",
          "data": {
            "text/plain": [
              "<matplotlib.axes._subplots.AxesSubplot at 0x1ce418c2ba8>"
            ]
          },
          "metadata": {
            "tags": []
          },
          "execution_count": 7
        },
        {
          "output_type": "display_data",
          "data": {
            "image/png": "[encoded data removed]",
            "text/plain": [
              "<Figure size 432x288 with 1 Axes>"
            ]
          },
          "metadata": {
            "tags": [],
            "needs_background": "light"
          }
        }
      ]
    },
    {
      "cell_type": "code",
      "metadata": {
        "id": "wX5DYtFYy-Mp",
        "colab_type": "code",
        "colab": {},
        "outputId": "86eae4f6-b91d-4c5b-9e74-baa5f1f24e79"
      },
      "source": [
        "pd.value_counts(df['class'])"
      ],
      "execution_count": 0,
      "outputs": [
        {
          "output_type": "execute_result",
          "data": {
            "text/plain": [
              "car    413\n",
              "bus    205\n",
              "van    195\n",
              "Name: class, dtype: int64"
            ]
          },
          "metadata": {
            "tags": []
          },
          "execution_count": 8
        }
      ]
    },
    {
      "cell_type": "markdown",
      "metadata": {
        "colab_type": "text",
        "id": "AwUdJm9qho9U"
      },
      "source": [
        "### 3. Standardize the data "
      ]
    },
    {
      "cell_type": "markdown",
      "metadata": {
        "colab_type": "text",
        "id": "x6z10bgjho9j"
      },
      "source": [
        "Since the dimensions of the data are not really known to us, it would be wise to standardize the data using z scores before we go for any clustering methods.\n",
        "You can use zscore function to do this"
      ]
    },
    {
      "cell_type": "code",
      "metadata": {
        "colab_type": "code",
        "id": "qed3MlPjho9n",
        "colab": {}
      },
      "source": [
        "from scipy.stats import zscore"
      ],
      "execution_count": 0,
      "outputs": []
    },
    {
      "cell_type": "code",
      "metadata": {
        "colab_type": "code",
        "id": "pbGN_7mhho9y",
        "colab": {}
      },
      "source": [
        "df_x = df.drop('class', axis=1)"
      ],
      "execution_count": 0,
      "outputs": []
    },
    {
      "cell_type": "code",
      "metadata": {
        "id": "4SiuRllwy-NV",
        "colab_type": "code",
        "colab": {},
        "outputId": "55b33d86-086c-4040-e75b-197a011ee914"
      },
      "source": [
        "df_x.head(2)"
      ],
      "execution_count": 0,
      "outputs": [
        {
          "output_type": "execute_result",
          "data": {
            "text/html": [
              "<div>\n",
              "<style scoped>\n",
              "    .dataframe tbody tr th:only-of-type {\n",
              "        vertical-align: middle;\n",
              "    }\n",
              "\n",
              "    .dataframe tbody tr th {\n",
              "        vertical-align: top;\n",
              "    }\n",
              "\n",
              "    .dataframe thead th {\n",
              "        text-align: right;\n",
              "    }\n",
              "</style>\n",
              "<table border=\"1\" class=\"dataframe\">\n",
              "  <thead>\n",
              "    <tr style=\"text-align: right;\">\n",
              "      <th></th>\n",
              "      <th>compactness</th>\n",
              "      <th>circularity</th>\n",
              "      <th>distance_circularity</th>\n",
              "      <th>radius_ratio</th>\n",
              "      <th>pr.axis_aspect_ratio</th>\n",
              "      <th>max.length_aspect_ratio</th>\n",
              "      <th>scatter_ratio</th>\n",
              "      <th>elongatedness</th>\n",
              "      <th>pr.axis_rectangularity</th>\n",
              "      <th>max.length_rectangularity</th>\n",
              "      <th>scaled_variance</th>\n",
              "      <th>scaled_variance.1</th>\n",
              "      <th>scaled_radius_of_gyration</th>\n",
              "      <th>scaled_radius_of_gyration.1</th>\n",
              "      <th>skewness_about</th>\n",
              "      <th>skewness_about.1</th>\n",
              "      <th>skewness_about.2</th>\n",
              "      <th>hollows_ratio</th>\n",
              "    </tr>\n",
              "  </thead>\n",
              "  <tbody>\n",
              "    <tr>\n",
              "      <th>0</th>\n",
              "      <td>95</td>\n",
              "      <td>48.0</td>\n",
              "      <td>83.0</td>\n",
              "      <td>178.0</td>\n",
              "      <td>72.0</td>\n",
              "      <td>10</td>\n",
              "      <td>162.0</td>\n",
              "      <td>42.0</td>\n",
              "      <td>20.0</td>\n",
              "      <td>159</td>\n",
              "      <td>176.0</td>\n",
              "      <td>379.0</td>\n",
              "      <td>184.0</td>\n",
              "      <td>70.0</td>\n",
              "      <td>6.0</td>\n",
              "      <td>16.0</td>\n",
              "      <td>187.0</td>\n",
              "      <td>197</td>\n",
              "    </tr>\n",
              "    <tr>\n",
              "      <th>1</th>\n",
              "      <td>91</td>\n",
              "      <td>41.0</td>\n",
              "      <td>84.0</td>\n",
              "      <td>141.0</td>\n",
              "      <td>57.0</td>\n",
              "      <td>9</td>\n",
              "      <td>149.0</td>\n",
              "      <td>45.0</td>\n",
              "      <td>19.0</td>\n",
              "      <td>143</td>\n",
              "      <td>170.0</td>\n",
              "      <td>330.0</td>\n",
              "      <td>158.0</td>\n",
              "      <td>72.0</td>\n",
              "      <td>9.0</td>\n",
              "      <td>14.0</td>\n",
              "      <td>189.0</td>\n",
              "      <td>199</td>\n",
              "    </tr>\n",
              "  </tbody>\n",
              "</table>\n",
              "</div>"
            ],
            "text/plain": [
              "   compactness  circularity  distance_circularity  radius_ratio  \\\n",
              "0           95         48.0                  83.0         178.0   \n",
              "1           91         41.0                  84.0         141.0   \n",
              "\n",
              "   pr.axis_aspect_ratio  max.length_aspect_ratio  scatter_ratio  \\\n",
              "0                  72.0                       10          162.0   \n",
              "1                  57.0                        9          149.0   \n",
              "\n",
              "   elongatedness  pr.axis_rectangularity  max.length_rectangularity  \\\n",
              "0           42.0                    20.0                        159   \n",
              "1           45.0                    19.0                        143   \n",
              "\n",
              "   scaled_variance  scaled_variance.1  scaled_radius_of_gyration  \\\n",
              "0            176.0              379.0                      184.0   \n",
              "1            170.0              330.0                      158.0   \n",
              "\n",
              "   scaled_radius_of_gyration.1  skewness_about  skewness_about.1  \\\n",
              "0                         70.0             6.0              16.0   \n",
              "1                         72.0             9.0              14.0   \n",
              "\n",
              "   skewness_about.2  hollows_ratio  \n",
              "0             187.0            197  \n",
              "1             189.0            199  "
            ]
          },
          "metadata": {
            "tags": []
          },
          "execution_count": 12
        }
      ]
    },
    {
      "cell_type": "code",
      "metadata": {
        "id": "b8C8ScZNy-Nd",
        "colab_type": "code",
        "colab": {}
      },
      "source": [
        "std_x = df_x.apply(zscore)"
      ],
      "execution_count": 0,
      "outputs": []
    },
    {
      "cell_type": "markdown",
      "metadata": {
        "colab_type": "text",
        "id": "weIwi8cxho-C"
      },
      "source": [
        "### K - Means Clustering"
      ]
    },
    {
      "cell_type": "markdown",
      "metadata": {
        "colab_type": "text",
        "id": "YdA5yJ1m61-L"
      },
      "source": [
        "### Assign a dummy array called Cluster_error"
      ]
    },
    {
      "cell_type": "code",
      "metadata": {
        "colab_type": "code",
        "id": "PRcbAApuho-g",
        "colab": {}
      },
      "source": [
        "Cluster_error = []"
      ],
      "execution_count": 0,
      "outputs": []
    },
    {
      "cell_type": "markdown",
      "metadata": {
        "colab_type": "text",
        "id": "ywuVdFe2ho-t"
      },
      "source": [
        "### 5. Calculate errorrs for each K"
      ]
    },
    {
      "cell_type": "markdown",
      "metadata": {
        "colab_type": "text",
        "id": "PJznnrkc68nf"
      },
      "source": [
        "Iterating values of k from 1 to 10 fit K means model\n",
        "Using inertia"
      ]
    },
    {
      "cell_type": "code",
      "metadata": {
        "colab_type": "code",
        "id": "uc49grvmho-2",
        "colab": {}
      },
      "source": [
        "from sklearn.cluster import KMeans\n",
        "for k in range(1,10):\n",
        "    model = KMeans(n_clusters =k).fit(std_x)\n",
        "    Cluster_error.append(model.inertia_)"
      ],
      "execution_count": 0,
      "outputs": []
    },
    {
      "cell_type": "code",
      "metadata": {
        "colab_type": "code",
        "id": "NRJo1wzqho_Q",
        "colab": {},
        "outputId": "e4359361-0d39-4ba3-8614-9e1b36612cc4"
      },
      "source": [
        "Cluster_error"
      ],
      "execution_count": 0,
      "outputs": [
        {
          "output_type": "execute_result",
          "data": {
            "text/plain": [
              "[14634.0,\n",
              " 8623.13697598644,\n",
              " 7037.467394618071,\n",
              " 5739.286383826636,\n",
              " 5188.91134051708,\n",
              " 4707.410268904614,\n",
              " 4364.493341303315,\n",
              " 4105.339902186163,\n",
              " 3847.183148668829]"
            ]
          },
          "metadata": {
            "tags": []
          },
          "execution_count": 18
        }
      ]
    },
    {
      "cell_type": "code",
      "metadata": {
        "id": "LcGnUg2ry-OH",
        "colab_type": "code",
        "colab": {},
        "outputId": "e53556ad-816b-4367-faa2-87e222531407"
      },
      "source": [
        "clusters_df = pd.DataFrame( { \"num_clusters\":range(1,10), \"cluster_errors\": Cluster_error} )\n",
        "clusters_df"
      ],
      "execution_count": 0,
      "outputs": [
        {
          "output_type": "execute_result",
          "data": {
            "text/html": [
              "<div>\n",
              "<style scoped>\n",
              "    .dataframe tbody tr th:only-of-type {\n",
              "        vertical-align: middle;\n",
              "    }\n",
              "\n",
              "    .dataframe tbody tr th {\n",
              "        vertical-align: top;\n",
              "    }\n",
              "\n",
              "    .dataframe thead th {\n",
              "        text-align: right;\n",
              "    }\n",
              "</style>\n",
              "<table border=\"1\" class=\"dataframe\">\n",
              "  <thead>\n",
              "    <tr style=\"text-align: right;\">\n",
              "      <th></th>\n",
              "      <th>num_clusters</th>\n",
              "      <th>cluster_errors</th>\n",
              "    </tr>\n",
              "  </thead>\n",
              "  <tbody>\n",
              "    <tr>\n",
              "      <th>0</th>\n",
              "      <td>1</td>\n",
              "      <td>14634.000000</td>\n",
              "    </tr>\n",
              "    <tr>\n",
              "      <th>1</th>\n",
              "      <td>2</td>\n",
              "      <td>8623.136976</td>\n",
              "    </tr>\n",
              "    <tr>\n",
              "      <th>2</th>\n",
              "      <td>3</td>\n",
              "      <td>7037.467395</td>\n",
              "    </tr>\n",
              "    <tr>\n",
              "      <th>3</th>\n",
              "      <td>4</td>\n",
              "      <td>5739.286384</td>\n",
              "    </tr>\n",
              "    <tr>\n",
              "      <th>4</th>\n",
              "      <td>5</td>\n",
              "      <td>5188.911341</td>\n",
              "    </tr>\n",
              "    <tr>\n",
              "      <th>5</th>\n",
              "      <td>6</td>\n",
              "      <td>4707.410269</td>\n",
              "    </tr>\n",
              "    <tr>\n",
              "      <th>6</th>\n",
              "      <td>7</td>\n",
              "      <td>4364.493341</td>\n",
              "    </tr>\n",
              "    <tr>\n",
              "      <th>7</th>\n",
              "      <td>8</td>\n",
              "      <td>4105.339902</td>\n",
              "    </tr>\n",
              "    <tr>\n",
              "      <th>8</th>\n",
              "      <td>9</td>\n",
              "      <td>3847.183149</td>\n",
              "    </tr>\n",
              "  </tbody>\n",
              "</table>\n",
              "</div>"
            ],
            "text/plain": [
              "   num_clusters  cluster_errors\n",
              "0             1    14634.000000\n",
              "1             2     8623.136976\n",
              "2             3     7037.467395\n",
              "3             4     5739.286384\n",
              "4             5     5188.911341\n",
              "5             6     4707.410269\n",
              "6             7     4364.493341\n",
              "7             8     4105.339902\n",
              "8             9     3847.183149"
            ]
          },
          "metadata": {
            "tags": []
          },
          "execution_count": 20
        }
      ]
    },
    {
      "cell_type": "markdown",
      "metadata": {
        "colab_type": "text",
        "id": "JIcSiPyoho_a"
      },
      "source": [
        "### 6. Plotting Elbow/ Scree Plot"
      ]
    },
    {
      "cell_type": "markdown",
      "metadata": {
        "colab_type": "text",
        "id": "Z8Yw5XEsho_r"
      },
      "source": [
        "Use Matplotlib to plot the scree plot - Note: Scree plot plots Errors vs the no of clusters"
      ]
    },
    {
      "cell_type": "code",
      "metadata": {
        "colab_type": "code",
        "id": "sJ5oE4Csho_v",
        "colab": {},
        "outputId": "a0792bdc-a05b-45cf-ccc6-6fe5513dd2c6"
      },
      "source": [
        "plt.plot( clusters_df.num_clusters, clusters_df.cluster_errors, marker='o')"
      ],
      "execution_count": 0,
      "outputs": [
        {
          "output_type": "execute_result",
          "data": {
            "text/plain": [
              "[<matplotlib.lines.Line2D at 0x1ce441368d0>]"
            ]
          },
          "metadata": {
            "tags": []
          },
          "execution_count": 22
        },
        {
          "output_type": "display_data",
          "data": {
            "image/png": "[encoded data removed]",
            "text/plain": [
              "<Figure size 432x288 with 1 Axes>"
            ]
          },
          "metadata": {
            "tags": [],
            "needs_background": "light"
          }
        }
      ]
    },
    {
      "cell_type": "markdown",
      "metadata": {
        "colab_type": "text",
        "id": "sGx_Q_4Iho_7"
      },
      "source": [
        "### Find out the optimal value of K"
      ]
    },
    {
      "cell_type": "code",
      "metadata": {
        "colab_type": "code",
        "id": "i2JjEPrcho__",
        "colab": {},
        "outputId": "f5cf7e0c-f66d-4257-e9bc-96dc6db32709"
      },
      "source": [
        "3"
      ],
      "execution_count": 0,
      "outputs": [
        {
          "output_type": "execute_result",
          "data": {
            "text/plain": [
              "3"
            ]
          },
          "metadata": {
            "tags": []
          },
          "execution_count": 23
        }
      ]
    },
    {
      "cell_type": "markdown",
      "metadata": {
        "colab_type": "text",
        "id": "5EoRD5PHhpAT"
      },
      "source": [
        "### Using optimal value of K - Cluster the data. \n",
        "Note: Since the data has more than 2 dimension we cannot visualize the data. As an alternative, we can observe the centroids and note how they are distributed across different dimensions"
      ]
    },
    {
      "cell_type": "code",
      "metadata": {
        "colab_type": "code",
        "id": "68oQ0c2ThpAZ",
        "colab": {}
      },
      "source": [
        "final_model = KMeans(n_clusters=3).fit(std_x)"
      ],
      "execution_count": 0,
      "outputs": []
    },
    {
      "cell_type": "code",
      "metadata": {
        "id": "FgMtD59Ay-PS",
        "colab_type": "code",
        "colab": {}
      },
      "source": [
        "centriods = final_model.cluster_centers_"
      ],
      "execution_count": 0,
      "outputs": []
    },
    {
      "cell_type": "markdown",
      "metadata": {
        "colab_type": "text",
        "id": "fY5IjhFihpAm"
      },
      "source": [
        "You can use kmeans.cluster_centers_ function to pull the centroid information from the instance"
      ]
    },
    {
      "cell_type": "markdown",
      "metadata": {
        "colab_type": "text",
        "id": "A2T8SxBdhpBL"
      },
      "source": [
        "### 7. Store the centroids in a dataframe with column names from the original dataset given "
      ]
    },
    {
      "cell_type": "code",
      "metadata": {
        "colab_type": "code",
        "id": "xpjTngRNhpBP",
        "colab": {}
      },
      "source": [
        "centroids_df = pd.DataFrame(centriods, columns = std_x.columns)"
      ],
      "execution_count": 0,
      "outputs": []
    },
    {
      "cell_type": "markdown",
      "metadata": {
        "colab_type": "text",
        "id": "SvWlZ_FzhpBY"
      },
      "source": [
        "Hint: Use pd.Dataframe function "
      ]
    },
    {
      "cell_type": "code",
      "metadata": {
        "colab_type": "code",
        "id": "EZ6nJ3BdhpBZ",
        "colab": {},
        "outputId": "ff6ef77e-2c42-4f94-c5ca-c502b08f98a0"
      },
      "source": [
        "centroids_df"
      ],
      "execution_count": 0,
      "outputs": [
        {
          "output_type": "execute_result",
          "data": {
            "text/html": [
              "<div>\n",
              "<style scoped>\n",
              "    .dataframe tbody tr th:only-of-type {\n",
              "        vertical-align: middle;\n",
              "    }\n",
              "\n",
              "    .dataframe tbody tr th {\n",
              "        vertical-align: top;\n",
              "    }\n",
              "\n",
              "    .dataframe thead th {\n",
              "        text-align: right;\n",
              "    }\n",
              "</style>\n",
              "<table border=\"1\" class=\"dataframe\">\n",
              "  <thead>\n",
              "    <tr style=\"text-align: right;\">\n",
              "      <th></th>\n",
              "      <th>compactness</th>\n",
              "      <th>circularity</th>\n",
              "      <th>distance_circularity</th>\n",
              "      <th>radius_ratio</th>\n",
              "      <th>pr.axis_aspect_ratio</th>\n",
              "      <th>max.length_aspect_ratio</th>\n",
              "      <th>scatter_ratio</th>\n",
              "      <th>elongatedness</th>\n",
              "      <th>pr.axis_rectangularity</th>\n",
              "      <th>max.length_rectangularity</th>\n",
              "      <th>scaled_variance</th>\n",
              "      <th>scaled_variance.1</th>\n",
              "      <th>scaled_radius_of_gyration</th>\n",
              "      <th>scaled_radius_of_gyration.1</th>\n",
              "      <th>skewness_about</th>\n",
              "      <th>skewness_about.1</th>\n",
              "      <th>skewness_about.2</th>\n",
              "      <th>hollows_ratio</th>\n",
              "    </tr>\n",
              "  </thead>\n",
              "  <tbody>\n",
              "    <tr>\n",
              "      <th>0</th>\n",
              "      <td>1.130765</td>\n",
              "      <td>1.170942</td>\n",
              "      <td>1.195006</td>\n",
              "      <td>1.019095</td>\n",
              "      <td>0.215052</td>\n",
              "      <td>0.342508</td>\n",
              "      <td>1.271805</td>\n",
              "      <td>-1.190612</td>\n",
              "      <td>1.275484</td>\n",
              "      <td>1.092668</td>\n",
              "      <td>1.220381</td>\n",
              "      <td>1.281327</td>\n",
              "      <td>1.079542</td>\n",
              "      <td>-0.028795</td>\n",
              "      <td>0.162290</td>\n",
              "      <td>0.265665</td>\n",
              "      <td>-0.005356</td>\n",
              "      <td>0.183801</td>\n",
              "    </tr>\n",
              "    <tr>\n",
              "      <th>1</th>\n",
              "      <td>-0.919871</td>\n",
              "      <td>-0.520093</td>\n",
              "      <td>-0.893208</td>\n",
              "      <td>-1.064356</td>\n",
              "      <td>-0.500422</td>\n",
              "      <td>-0.219074</td>\n",
              "      <td>-0.779121</td>\n",
              "      <td>0.865893</td>\n",
              "      <td>-0.745356</td>\n",
              "      <td>-0.484632</td>\n",
              "      <td>-0.782403</td>\n",
              "      <td>-0.783411</td>\n",
              "      <td>-0.384982</td>\n",
              "      <td>0.838787</td>\n",
              "      <td>-0.095243</td>\n",
              "      <td>-0.301716</td>\n",
              "      <td>-1.054206</td>\n",
              "      <td>-1.110695</td>\n",
              "    </tr>\n",
              "    <tr>\n",
              "      <th>2</th>\n",
              "      <td>-0.233962</td>\n",
              "      <td>-0.573875</td>\n",
              "      <td>-0.307769</td>\n",
              "      <td>-0.030413</td>\n",
              "      <td>0.205073</td>\n",
              "      <td>-0.116532</td>\n",
              "      <td>-0.459042</td>\n",
              "      <td>0.325063</td>\n",
              "      <td>-0.487988</td>\n",
              "      <td>-0.536044</td>\n",
              "      <td>-0.413809</td>\n",
              "      <td>-0.463663</td>\n",
              "      <td>-0.601550</td>\n",
              "      <td>-0.619241</td>\n",
              "      <td>-0.061780</td>\n",
              "      <td>0.010668</td>\n",
              "      <td>0.812786</td>\n",
              "      <td>0.698973</td>\n",
              "    </tr>\n",
              "  </tbody>\n",
              "</table>\n",
              "</div>"
            ],
            "text/plain": [
              "   compactness  circularity  distance_circularity  radius_ratio  \\\n",
              "0     1.130765     1.170942              1.195006      1.019095   \n",
              "1    -0.919871    -0.520093             -0.893208     -1.064356   \n",
              "2    -0.233962    -0.573875             -0.307769     -0.030413   \n",
              "\n",
              "   pr.axis_aspect_ratio  max.length_aspect_ratio  scatter_ratio  \\\n",
              "0              0.215052                 0.342508       1.271805   \n",
              "1             -0.500422                -0.219074      -0.779121   \n",
              "2              0.205073                -0.116532      -0.459042   \n",
              "\n",
              "   elongatedness  pr.axis_rectangularity  max.length_rectangularity  \\\n",
              "0      -1.190612                1.275484                   1.092668   \n",
              "1       0.865893               -0.745356                  -0.484632   \n",
              "2       0.325063               -0.487988                  -0.536044   \n",
              "\n",
              "   scaled_variance  scaled_variance.1  scaled_radius_of_gyration  \\\n",
              "0         1.220381           1.281327                   1.079542   \n",
              "1        -0.782403          -0.783411                  -0.384982   \n",
              "2        -0.413809          -0.463663                  -0.601550   \n",
              "\n",
              "   scaled_radius_of_gyration.1  skewness_about  skewness_about.1  \\\n",
              "0                    -0.028795        0.162290          0.265665   \n",
              "1                     0.838787       -0.095243         -0.301716   \n",
              "2                    -0.619241       -0.061780          0.010668   \n",
              "\n",
              "   skewness_about.2  hollows_ratio  \n",
              "0         -0.005356       0.183801  \n",
              "1         -1.054206      -1.110695  \n",
              "2          0.812786       0.698973  "
            ]
          },
          "metadata": {
            "tags": []
          },
          "execution_count": 29
        }
      ]
    },
    {
      "cell_type": "code",
      "metadata": {
        "colab_type": "code",
        "id": "HPey2b-DhpBh",
        "colab": {}
      },
      "source": [
        ""
      ],
      "execution_count": 0,
      "outputs": []
    },
    {
      "cell_type": "markdown",
      "metadata": {
        "colab_type": "text",
        "id": "n2kFVi2GhpBn"
      },
      "source": [
        "### Use kmeans.labels_ function to print out the labels of the classes"
      ]
    },
    {
      "cell_type": "code",
      "metadata": {
        "colab_type": "code",
        "id": "Ahx91q_ghpBp",
        "colab": {}
      },
      "source": [
        "labels = pd.DataFrame(final_model.labels_ , columns = list(['labels']))"
      ],
      "execution_count": 0,
      "outputs": []
    },
    {
      "cell_type": "code",
      "metadata": {
        "colab_type": "code",
        "id": "hm0AtttihpBv",
        "colab": {},
        "outputId": "bdd67f48-676d-4d68-d7ae-bb6122167683"
      },
      "source": [
        "pd.value_counts(labels['labels'])"
      ],
      "execution_count": 0,
      "outputs": [
        {
          "output_type": "execute_result",
          "data": {
            "text/plain": [
              "2    313\n",
              "0    260\n",
              "1    240\n",
              "Name: labels, dtype: int64"
            ]
          },
          "metadata": {
            "tags": []
          },
          "execution_count": 34
        }
      ]
    },
    {
      "cell_type": "markdown",
      "metadata": {
        "colab_type": "text",
        "id": "SmQyHhmFhpB3"
      },
      "source": [
        "## Hierarchical Clustering "
      ]
    },
    {
      "cell_type": "markdown",
      "metadata": {
        "colab_type": "text",
        "id": "_zAMRDe_hpB5"
      },
      "source": [
        "### 8. Variable creation"
      ]
    },
    {
      "cell_type": "markdown",
      "metadata": {
        "colab_type": "text",
        "id": "VESIKt49hpB6"
      },
      "source": [
        "For Hierarchical clustering, we will create datasets using multivariate normal distribution to visually observe how the clusters are formed at the end"
      ]
    },
    {
      "cell_type": "code",
      "metadata": {
        "colab_type": "code",
        "id": "qpUh49bKhpB8",
        "colab": {}
      },
      "source": [
        "np.random.seed(101)  # for repeatability of this dataset\n",
        "a = np.random.multivariate_normal([10, 0], [[3, 1], [1, 4]], size=[100,])\n",
        "b = np.random.multivariate_normal([0, 20], [[3, 1], [1, 4]], size=[50,])\n",
        "c = np.random.multivariate_normal([10, 20], [[3, 1], [1, 4]], size=[100,])"
      ],
      "execution_count": 0,
      "outputs": []
    },
    {
      "cell_type": "markdown",
      "metadata": {
        "colab_type": "raw",
        "id": "cu8DfP8shpCA"
      },
      "source": [
        "a = np.random.multivariate_normal([10, 0], [[3, 1], [1, 4]], size=[100,])\n",
        "b = np.random.multivariate_normal([0, 20], [[3, 1], [1, 4]], size=[50,])\n",
        "c = np.random.multivariate_normal([10, 20], [[3, 1], [1, 4]], size=[100,])"
      ]
    },
    {
      "cell_type": "markdown",
      "metadata": {
        "colab_type": "text",
        "id": "Eui7Qgc8hpCH"
      },
      "source": [
        "### 9. Combine all three arrays a,b,c into a dataset"
      ]
    },
    {
      "cell_type": "code",
      "metadata": {
        "colab_type": "code",
        "id": "Nle34XhhhpCI",
        "colab": {}
      },
      "source": [
        "data = np.concatenate((a,b,c), axis=0)"
      ],
      "execution_count": 0,
      "outputs": []
    },
    {
      "cell_type": "code",
      "metadata": {
        "id": "ixYBW1Ihy-Qa",
        "colab_type": "code",
        "colab": {}
      },
      "source": [
        "data_df = pd.DataFrame(data, columns = ['y','x'])"
      ],
      "execution_count": 0,
      "outputs": []
    },
    {
      "cell_type": "code",
      "metadata": {
        "id": "3IZmK_s1y-Qh",
        "colab_type": "code",
        "colab": {},
        "outputId": "c4e72bcf-8db0-467c-b21e-a91d329ef5b9"
      },
      "source": [
        "data_df.head(2)"
      ],
      "execution_count": 0,
      "outputs": [
        {
          "output_type": "execute_result",
          "data": {
            "text/html": [
              "<div>\n",
              "<style scoped>\n",
              "    .dataframe tbody tr th:only-of-type {\n",
              "        vertical-align: middle;\n",
              "    }\n",
              "\n",
              "    .dataframe tbody tr th {\n",
              "        vertical-align: top;\n",
              "    }\n",
              "\n",
              "    .dataframe thead th {\n",
              "        text-align: right;\n",
              "    }\n",
              "</style>\n",
              "<table border=\"1\" class=\"dataframe\">\n",
              "  <thead>\n",
              "    <tr style=\"text-align: right;\">\n",
              "      <th></th>\n",
              "      <th>y</th>\n",
              "      <th>x</th>\n",
              "    </tr>\n",
              "  </thead>\n",
              "  <tbody>\n",
              "    <tr>\n",
              "      <th>0</th>\n",
              "      <td>13.882785</td>\n",
              "      <td>4.438501</td>\n",
              "    </tr>\n",
              "    <tr>\n",
              "      <th>1</th>\n",
              "      <td>11.687256</td>\n",
              "      <td>1.250981</td>\n",
              "    </tr>\n",
              "  </tbody>\n",
              "</table>\n",
              "</div>"
            ],
            "text/plain": [
              "           y         x\n",
              "0  13.882785  4.438501\n",
              "1  11.687256  1.250981"
            ]
          },
          "metadata": {
            "tags": []
          },
          "execution_count": 46
        }
      ]
    },
    {
      "cell_type": "markdown",
      "metadata": {
        "colab_type": "text",
        "id": "v6JlILlihpCe"
      },
      "source": [
        "### 10. Use scatter matrix to print all the 3 distributions"
      ]
    },
    {
      "cell_type": "code",
      "metadata": {
        "colab_type": "code",
        "id": "i6Nf9LznhpCg",
        "colab": {},
        "outputId": "78c0d671-ba2f-4aec-ef0d-739f1f2d2301"
      },
      "source": [
        "plt.scatter(data_df['y'],data_df['x'])"
      ],
      "execution_count": 0,
      "outputs": [
        {
          "output_type": "execute_result",
          "data": {
            "text/plain": [
              "<matplotlib.collections.PathCollection at 0x1ce44332860>"
            ]
          },
          "metadata": {
            "tags": []
          },
          "execution_count": 48
        },
        {
          "output_type": "display_data",
          "data": {
            "image/png": "[encoded data removed]",
            "text/plain": [
              "<Figure size 432x288 with 1 Axes>"
            ]
          },
          "metadata": {
            "tags": [],
            "needs_background": "light"
          }
        }
      ]
    },
    {
      "cell_type": "code",
      "metadata": {
        "colab_type": "code",
        "id": "hILsbwkOhpCk",
        "colab": {}
      },
      "source": [
        ""
      ],
      "execution_count": 0,
      "outputs": []
    },
    {
      "cell_type": "markdown",
      "metadata": {
        "colab_type": "text",
        "id": "Ufj36K5NhpCo"
      },
      "source": [
        "### 11. Find out the linkage matrix"
      ]
    },
    {
      "cell_type": "markdown",
      "metadata": {
        "colab_type": "text",
        "id": "EOxwi5gshpCt"
      },
      "source": [
        "Use ward as linkage metric and distance as Eucledian"
      ]
    },
    {
      "cell_type": "code",
      "metadata": {
        "colab_type": "code",
        "id": "xJsL16lqhpCu",
        "colab": {}
      },
      "source": [
        "from scipy.cluster.hierarchy import dendrogram, linkage"
      ],
      "execution_count": 0,
      "outputs": []
    },
    {
      "cell_type": "code",
      "metadata": {
        "colab_type": "code",
        "id": "A6YN_sjhhpC4",
        "colab": {}
      },
      "source": [
        "Z = linkage(data_df, 'ward', metric='euclidean')"
      ],
      "execution_count": 0,
      "outputs": []
    },
    {
      "cell_type": "code",
      "metadata": {
        "id": "miGe2L7Fy-RH",
        "colab_type": "code",
        "colab": {},
        "outputId": "e28c8b0a-78ef-40d9-c523-84b90745ea6b"
      },
      "source": [
        "Z.shape"
      ],
      "execution_count": 0,
      "outputs": [
        {
          "output_type": "execute_result",
          "data": {
            "text/plain": [
              "(249, 4)"
            ]
          },
          "metadata": {
            "tags": []
          },
          "execution_count": 51
        }
      ]
    },
    {
      "cell_type": "code",
      "metadata": {
        "id": "5TZb0ghOy-RS",
        "colab_type": "code",
        "colab": {},
        "outputId": "349a0df7-5e21-49dc-a674-f45b4dcaa74a"
      },
      "source": [
        "Z[:2]"
      ],
      "execution_count": 0,
      "outputs": [
        {
          "output_type": "execute_result",
          "data": {
            "text/plain": [
              "array([[6.00000000e+00, 3.50000000e+01, 4.03105214e-02, 2.00000000e+00],\n",
              "       [1.59000000e+02, 2.47000000e+02, 4.15336058e-02, 2.00000000e+00]])"
            ]
          },
          "metadata": {
            "tags": []
          },
          "execution_count": 55
        }
      ]
    },
    {
      "cell_type": "markdown",
      "metadata": {
        "colab_type": "text",
        "id": "UnVS8VYMhpC9"
      },
      "source": [
        "### 12. Plot the dendrogram for the consolidated dataframe"
      ]
    },
    {
      "cell_type": "code",
      "metadata": {
        "colab_type": "code",
        "id": "oeLtemVqhpC_",
        "colab": {},
        "outputId": "72bfc0bd-c9e6-413b-834d-a6a8193d8ebb"
      },
      "source": [
        "dendrogram(Z)\n",
        "plt.show()"
      ],
      "execution_count": 0,
      "outputs": [
        {
          "output_type": "display_data",
          "data": {
            "image/png": "[encoded data removed]",
            "text/plain": [
              "<Figure size 432x288 with 1 Axes>"
            ]
          },
          "metadata": {
            "tags": [],
            "needs_background": "light"
          }
        }
      ]
    },
    {
      "cell_type": "markdown",
      "metadata": {
        "colab_type": "text",
        "id": "QXE-T9cHhpDS"
      },
      "source": [
        "### 13. Recreate the dendrogram for last 12 merged clusters "
      ]
    },
    {
      "cell_type": "markdown",
      "metadata": {
        "colab_type": "text",
        "id": "4PKR3o5QhpDX"
      },
      "source": [
        "Hint: Use truncate_mode='lastp' attribute in dendrogram function to arrive at dendrogram "
      ]
    },
    {
      "cell_type": "code",
      "metadata": {
        "colab_type": "code",
        "id": "GDri9xtAhpDY",
        "colab": {},
        "outputId": "c107297a-d269-46b4-e25f-610932cdc7c0"
      },
      "source": [
        "dendrogram(Z,truncate_mode='lastp',  # show only the last p merged clusters\n",
        "    p=3,  # show only the last p merged clusters\n",
        ")\n",
        "plt.show()"
      ],
      "execution_count": 0,
      "outputs": [
        {
          "output_type": "display_data",
          "data": {
            "image/png": "[encoded data removed]",
            "text/plain": [
              "<Figure size 432x288 with 1 Axes>"
            ]
          },
          "metadata": {
            "tags": [],
            "needs_background": "light"
          }
        }
      ]
    },
    {
      "cell_type": "code",
      "metadata": {
        "colab_type": "code",
        "id": "k4GVCz44hpDg",
        "colab": {}
      },
      "source": [
        ""
      ],
      "execution_count": 0,
      "outputs": []
    }
  ]
}