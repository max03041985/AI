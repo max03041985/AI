{
 "cells": [
  {
   "cell_type": "code",
   "execution_count": 5,
   "metadata": {},
   "outputs": [],
   "source": [
    "import numpy as np\n",
    "import pandas as pd\n",
    "from functools import reduce\n",
    "import matplotlib.pyplot as plt\n",
    "import seaborn as sns\n",
    "%matplotlib inline\n",
    "from sklearn import preprocessing\n",
    "from sklearn.model_selection import train_test_split\n",
    "from sklearn.preprocessing import StandardScaler"
   ]
  },
  {
   "cell_type": "code",
   "execution_count": 29,
   "metadata": {},
   "outputs": [],
   "source": [
    "bond_ratings_df=pd.read_csv('bond_ratings.csv').sort_index(axis=1)\n",
    "fund_allocations_df=pd.read_csv('fund_allocations.csv').sort_index(axis=1)\n",
    "fund_config_df=pd.read_csv('fund_config.csv').sort_index(axis=1)\n",
    "fund_ratios_df=pd.read_csv('fund_ratios.csv').sort_index(axis=1)\n",
    "fund_specs_df=pd.read_csv('fund_specs.csv').sort_index(axis=1)\n",
    "other_specs_df=pd.read_csv('other_specs.csv').sort_index(axis=1)\n",
    "return_10year_df=pd.read_csv('return_10year.csv').sort_index(axis=1)\n",
    "return_3year_df=pd.read_csv('return_3year.csv').sort_index(axis=1)\n",
    "return_5year_df=pd.read_csv('return_5year.csv').sort_index(axis=1)"
   ]
  },
  {
   "cell_type": "code",
   "execution_count": 30,
   "metadata": {},
   "outputs": [],
   "source": [
    "tagdfs=[bond_ratings_df,other_specs_df,return_3year_df,return_5year_df,fund_specs_df] #since these dataframes contain 'tag' as id.\n",
    "tag_df = reduce(lambda left,right: pd.merge(left,right,on='tag'), tagdfs)\n",
    "tag_df=tag_df.drop(columns=['greatstone_rating_y'])\n",
    "tag_df.rename(columns={'greatstone_rating_x':'greatstone_rating'}, inplace=True)"
   ]
  },
  {
   "cell_type": "code",
   "execution_count": 31,
   "metadata": {},
   "outputs": [],
   "source": [
    "id_df=pd.merge(fund_config_df,return_10year_df,on=\"fund_id\") #since these dfs contain 'fund_id' as id\n",
    "final_df=pd.merge(id_df,fund_ratios_df,on=\"fund_id\")"
   ]
  },
  {
   "cell_type": "code",
   "execution_count": 32,
   "metadata": {},
   "outputs": [],
   "source": [
    "data_df=pd.merge(final_df,tag_df,on=\"tag\")\n",
    "fund_allocations_df.rename(columns={'id':'tag'},inplace=True) #since column name is 'id' which is nothing but the 'tag'\n",
    "data_df=pd.merge(data_df,fund_allocations_df,on=\"tag\")"
   ]
  },
  {
   "cell_type": "code",
   "execution_count": 33,
   "metadata": {},
   "outputs": [],
   "source": [
    "id_tag_dict = dict(zip(data_df.tag, data_df.fund_id))\n",
    "tag_id_dict=dict(zip(data_df.fund_id,data_df.tag))"
   ]
  },
  {
   "cell_type": "code",
   "execution_count": 34,
   "metadata": {},
   "outputs": [
    {
     "data": {
      "text/plain": [
       "Index(['10_years_alpha_fund', '10_years_beta_fund',\n",
       "       '10_years_return_mean_annual_fund', '10years_fund_r_squared',\n",
       "       '10years_fund_std', '10yrs_sharpe_ratio_fund',\n",
       "       '10yrs_treynor_ratio_fund', 'duration_bond', 'maturity_bond',\n",
       "       '2010_return_category', '2010_return_fund', '2011_return_category',\n",
       "       '2011_return_fund', '2012_fund_return', '2012_return_category',\n",
       "       '2013_category_return', '2013_return_fund', '2014_category_return',\n",
       "       '2014_return_fund', '2015_return_fund', '2016_return_category',\n",
       "       '2016_return_fund', 'category_return_2015', 'greatstone_rating',\n",
       "       '5_years_alpha_fund', '5_years_beta_fund',\n",
       "       '5_years_return_mean_annual_fund', '5years_fund_r_squared',\n",
       "       '5years_fund_std', '5yrs_sharpe_ratio_fund', '5yrs_treynor_ratio_fund'],\n",
       "      dtype='object')"
      ]
     },
     "execution_count": 34,
     "metadata": {},
     "output_type": "execute_result"
    }
   ],
   "source": [
    "data_df.columns[data_df.isna().sum()>3000]"
   ]
  },
  {
   "cell_type": "code",
   "execution_count": 35,
   "metadata": {},
   "outputs": [],
   "source": [
    "data_df.drop(columns=['10_years_alpha_fund', '10_years_beta_fund',\n",
    "       '10_years_return_mean_annual_fund', '10years_fund_r_squared',\n",
    "       '10years_fund_std', '10yrs_sharpe_ratio_fund',\n",
    "       '10yrs_treynor_ratio_fund', 'duration_bond', 'maturity_bond',\n",
    "       '2010_return_category', '2010_return_fund', '2011_return_category',\n",
    "       '2011_return_fund', '2012_fund_return', '2012_return_category',\n",
    "       '2013_category_return', '2013_return_fund', '2014_category_return',\n",
    "       '2014_return_fund', '2015_return_fund', '2016_return_category',\n",
    "       '2016_return_fund', 'category_return_2015',\n",
    "       '5_years_alpha_fund', '5_years_beta_fund',\n",
    "       '5_years_return_mean_annual_fund', '5years_fund_r_squared',\n",
    "       '5years_fund_std', '5yrs_sharpe_ratio_fund', '5yrs_treynor_ratio_fund'],inplace=True)"
   ]
  },
  {
   "cell_type": "code",
   "execution_count": 36,
   "metadata": {},
   "outputs": [],
   "source": [
    "data_df.drop(columns=['fund_name','parent_company','inception_date','fund_id'], inplace=True)"
   ]
  },
  {
   "cell_type": "code",
   "execution_count": 37,
   "metadata": {},
   "outputs": [
    {
     "data": {
      "text/plain": [
       "Index(['category', 'mmc_x', 'pc_ratio_x', 'pe_ratio_x', 'ps_ratio_x', 'mmc_y',\n",
       "       'pc_ratio_y', 'pe_ratio_y', 'ps_ratio_y', '3yrs_treynor_ratio_fund',\n",
       "       'currency', 'fund_size', 'investment_class'],\n",
       "      dtype='object')"
      ]
     },
     "execution_count": 37,
     "metadata": {},
     "output_type": "execute_result"
    }
   ],
   "source": [
    "data_df.columns[data_df.dtypes=='O']"
   ]
  },
  {
   "cell_type": "code",
   "execution_count": 38,
   "metadata": {},
   "outputs": [],
   "source": [
    "data_df[['mmc_x', \n",
    "'pc_ratio_x', \n",
    "'pe_ratio_x', \n",
    "'ps_ratio_x', \n",
    "'mmc_y',\n",
    "'pc_ratio_y', \n",
    "'pe_ratio_y', \n",
    "'ps_ratio_y', \n",
    "'3yrs_treynor_ratio_fund']]=data_df[['mmc_x', \n",
    "'pc_ratio_x', \n",
    "'pe_ratio_x', \n",
    "'ps_ratio_x', \n",
    "'mmc_y',\n",
    "'pc_ratio_y', \n",
    "'pe_ratio_y', \n",
    "'ps_ratio_y', \n",
    "'3yrs_treynor_ratio_fund']].apply(lambda x: x.str.replace(',', '').astype(float), axis=1)"
   ]
  },
  {
   "cell_type": "code",
   "execution_count": 39,
   "metadata": {},
   "outputs": [],
   "source": [
    "#Label Encoder -\n",
    "le = preprocessing.LabelEncoder()\n",
    "data_df['currency']=le.fit_transform(data_df['currency'].fillna(method='ffill'))\n",
    "data_df['fund_size']=le.fit_transform(data_df['fund_size'].fillna(method='ffill'))\n",
    "data_df['investment_class']=le.fit_transform(data_df['investment_class'].fillna(method='ffill'))\n",
    "data_df['category']=le.fit_transform(data_df['category'].fillna(method='ffill'))"
   ]
  },
  {
   "cell_type": "code",
   "execution_count": 40,
   "metadata": {},
   "outputs": [
    {
     "name": "stderr",
     "output_type": "stream",
     "text": [
      "C:\\ProgramData\\Anaconda3\\lib\\site-packages\\pandas\\core\\frame.py:4102: SettingWithCopyWarning: \n",
      "A value is trying to be set on a copy of a slice from a DataFrame\n",
      "\n",
      "See the caveats in the documentation: http://pandas.pydata.org/pandas-docs/stable/user_guide/indexing.html#returning-a-view-versus-a-copy\n",
      "  errors=errors,\n"
     ]
    }
   ],
   "source": [
    "pred_df=data_df[data_df['greatstone_rating'].isna()]\n",
    "pred_df.drop(columns=['greatstone_rating'],inplace=True)\n",
    "\n",
    "data_df=data_df[~data_df['greatstone_rating'].isna()]\n",
    "data_df=data_df.fillna(value=data_df.mean())\n",
    "pred_df=pred_df.fillna(value=pred_df.mean())\n",
    "\n",
    "X=data_df.drop(columns=['greatstone_rating'])\n",
    "y=data_df['greatstone_rating']\n"
   ]
  },
  {
   "cell_type": "code",
   "execution_count": 46,
   "metadata": {},
   "outputs": [
    {
     "data": {
      "text/plain": [
       "(20000, 95)"
      ]
     },
     "execution_count": 46,
     "metadata": {},
     "output_type": "execute_result"
    }
   ],
   "source": [
    "X.shape"
   ]
  },
  {
   "cell_type": "code",
   "execution_count": 47,
   "metadata": {},
   "outputs": [
    {
     "data": {
      "text/plain": [
       "(20000,)"
      ]
     },
     "execution_count": 47,
     "metadata": {},
     "output_type": "execute_result"
    }
   ],
   "source": [
    "y.shape"
   ]
  },
  {
   "cell_type": "code",
   "execution_count": 41,
   "metadata": {},
   "outputs": [],
   "source": [
    "from sklearn.model_selection import train_test_split\n",
    "# test_size: what proportion of original data is used for test set\n",
    "train_img, test_img, train_lbl, test_lbl = train_test_split( X, y, test_size=0.2,random_state=82)"
   ]
  },
  {
   "cell_type": "code",
   "execution_count": 42,
   "metadata": {},
   "outputs": [
    {
     "name": "stdout",
     "output_type": "stream",
     "text": [
      "Random Forest model accuracy for training set is:  1.0\n",
      "Random Forest model accuracy for test set is:  0.776\n"
     ]
    }
   ],
   "source": [
    "from sklearn.ensemble import RandomForestClassifier\n",
    "rfcl = RandomForestClassifier(n_estimators=300) ### -- no model passed\n",
    "rfcl = rfcl.fit(train_img,train_lbl)\n",
    "print(\"Random Forest model accuracy for training set is: \",rfcl.score(train_img , train_lbl))\n",
    "print(\"Random Forest model accuracy for test set is: \",rfcl.score(test_img , test_lbl))"
   ]
  },
  {
   "cell_type": "code",
   "execution_count": 43,
   "metadata": {},
   "outputs": [],
   "source": [
    "submission_df=pd.read_csv('sample_submission.csv')\n",
    "submission_df=submission_df.replace({\"fund_id\": tag_id_dict})\n",
    "submission_df=submission_df.rename(columns={\"fund_id\":\"tag\"}).drop(columns=['greatstone_rating'])\n",
    "#Predictions\n",
    "pred_df['greatstone_rating']=rfcl.predict(pred_df)\n",
    "df=pred_df[['tag','greatstone_rating']]\n",
    "submission_df=pd.merge(submission_df,df,on=\"tag\")\n",
    "submission_df=submission_df.replace({\"tag\": id_tag_dict}).rename(columns={\"tag\":\"fund_id\"}).set_index('fund_id')\n",
    "submission_df.to_csv('submit.csv')"
   ]
  },
  {
   "cell_type": "code",
   "execution_count": 44,
   "metadata": {},
   "outputs": [
    {
     "data": {
      "text/html": [
       "<div>\n",
       "<style scoped>\n",
       "    .dataframe tbody tr th:only-of-type {\n",
       "        vertical-align: middle;\n",
       "    }\n",
       "\n",
       "    .dataframe tbody tr th {\n",
       "        vertical-align: top;\n",
       "    }\n",
       "\n",
       "    .dataframe thead th {\n",
       "        text-align: right;\n",
       "    }\n",
       "</style>\n",
       "<table border=\"1\" class=\"dataframe\">\n",
       "  <thead>\n",
       "    <tr style=\"text-align: right;\">\n",
       "      <th></th>\n",
       "      <th>greatstone_rating</th>\n",
       "    </tr>\n",
       "    <tr>\n",
       "      <th>fund_id</th>\n",
       "      <th></th>\n",
       "    </tr>\n",
       "  </thead>\n",
       "  <tbody>\n",
       "    <tr>\n",
       "      <td>85a6edf9-db47-490c-981a-168ce90434bb</td>\n",
       "      <td>4.0</td>\n",
       "    </tr>\n",
       "    <tr>\n",
       "      <td>654dac08-5e5d-4cf0-870e-3167087de7d2</td>\n",
       "      <td>2.0</td>\n",
       "    </tr>\n",
       "    <tr>\n",
       "      <td>75214019-f876-42a9-a316-328b759ac4ba</td>\n",
       "      <td>4.0</td>\n",
       "    </tr>\n",
       "    <tr>\n",
       "      <td>1fe8de6d-cd33-489e-a829-211f1f622eed</td>\n",
       "      <td>0.0</td>\n",
       "    </tr>\n",
       "    <tr>\n",
       "      <td>bd87a7a0-6ca5-4607-a0cf-d396ecd6037a</td>\n",
       "      <td>3.0</td>\n",
       "    </tr>\n",
       "  </tbody>\n",
       "</table>\n",
       "</div>"
      ],
      "text/plain": [
       "                                      greatstone_rating\n",
       "fund_id                                                \n",
       "85a6edf9-db47-490c-981a-168ce90434bb                4.0\n",
       "654dac08-5e5d-4cf0-870e-3167087de7d2                2.0\n",
       "75214019-f876-42a9-a316-328b759ac4ba                4.0\n",
       "1fe8de6d-cd33-489e-a829-211f1f622eed                0.0\n",
       "bd87a7a0-6ca5-4607-a0cf-d396ecd6037a                3.0"
      ]
     },
     "execution_count": 44,
     "metadata": {},
     "output_type": "execute_result"
    }
   ],
   "source": [
    "submission_df.head()"
   ]
  }
 ],
 "metadata": {
  "kernelspec": {
   "display_name": "Python 3",
   "language": "python",
   "name": "python3"
  },
  "language_info": {
   "codemirror_mode": {
    "name": "ipython",
    "version": 3
   },
   "file_extension": ".py",
   "mimetype": "text/x-python",
   "name": "python",
   "nbconvert_exporter": "python",
   "pygments_lexer": "ipython3",
   "version": "3.7.4"
  }
 },
 "nbformat": 4,
 "nbformat_minor": 4
}
